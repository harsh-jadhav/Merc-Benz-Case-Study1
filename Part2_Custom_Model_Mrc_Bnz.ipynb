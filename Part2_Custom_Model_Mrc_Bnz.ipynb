{
 "cells": [
  {
   "cell_type": "markdown",
   "metadata": {},
   "source": [
    "# 6. Custom Model Approach"
   ]
  },
  {
   "cell_type": "markdown",
   "metadata": {},
   "source": [
    "## 6.1 Library Imports"
   ]
  },
  {
   "cell_type": "code",
   "execution_count": 1,
   "metadata": {},
   "outputs": [],
   "source": [
    "import pandas as pd\n",
    "import numpy as np\n",
    "import matplotlib.pyplot as plt\n",
    "import seaborn as sns\n",
    "from tqdm import tqdm\n",
    "from sklearn.preprocessing import LabelEncoder,Normalizer,PolynomialFeatures\n",
    "from sklearn.model_selection import train_test_split\n",
    "from sklearn.neighbors import KNeighborsRegressor\n",
    "from sklearn.svm import SVR\n",
    "from sklearn.ensemble import RandomForestRegressor\n",
    "from sklearn.tree import DecisionTreeRegressor\n",
    "from xgboost.sklearn import XGBRegressor\n",
    "from sklearn.model_selection import RandomizedSearchCV,GridSearchCV\n",
    "from sklearn.decomposition import TruncatedSVD, PCA \n",
    "from sklearn.linear_model import LassoLarsCV,Ridge\n",
    "from mlxtend.regressor import StackingCVRegressor \n",
    "from sklearn.random_projection import GaussianRandomProjection\n",
    "from sklearn.metrics import r2_score\n",
    "import joblib\n",
    "import warnings\n",
    "warnings.filterwarnings(\"ignore\")"
   ]
  },
  {
   "cell_type": "markdown",
   "metadata": {},
   "source": [
    "## 6.2 Data Loading and Preprocessing"
   ]
  },
  {
   "cell_type": "code",
   "execution_count": 2,
   "metadata": {},
   "outputs": [
    {
     "name": "stdout",
     "output_type": "stream",
     "text": [
      "total train datapoints = 4209\n",
      "total test datapoints = 4209\n"
     ]
    }
   ],
   "source": [
    "train = pd.read_csv('train.csv')\n",
    "print(f\"total train datapoints = {len(train)}\") \n",
    "test = pd.read_csv('test.csv')\n",
    "print(f\"total test datapoints = {len(test)}\")"
   ]
  },
  {
   "cell_type": "code",
   "execution_count": 3,
   "metadata": {},
   "outputs": [],
   "source": [
    "def preprocess_categorical(data, IDs):\n",
    "    \"\"\"\n",
    "    data : pandas dataframe\n",
    "    IDs: ID feature\n",
    "    return: dataframe, labels\n",
    "    \n",
    "    This function takes the dataframe as input, \n",
    "    encodes and normalizes the \n",
    "    categorical features.\n",
    "    \"\"\"\n",
    "    # create empty lists for collecting feature names\n",
    "    cat_features = []\n",
    "    Binary_features = []\n",
    "    \n",
    "    # Collect the categorical and binary feature names \n",
    "    for f in data.columns:\n",
    "        if data[f].dtype == 'object':\n",
    "            cat_features.append(f)\n",
    "        elif data[f].dtype == 'int' and f != 'ID':\n",
    "            Binary_features.append(f)\n",
    "        \n",
    "    # create categorical feature dataframe\n",
    "    cat_df = data[cat_features]\n",
    "    # create binary feature dataframe\n",
    "    bin_df = data[Binary_features]\n",
    "    bin_df.insert(0, 'ID', IDs.values)\n",
    "    \n",
    "    # Now encode each categorical feature\n",
    "    for feature in cat_features:\n",
    "        encoder = LabelEncoder()\n",
    "        cat_df[feature] = encoder.fit_transform(cat_df[feature].values)\n",
    "    # normalize the enocded categorical features\n",
    "    # normalized = Normalizer().fit_transform(cat_df)\n",
    "    # Create new categorical feature dataframe\n",
    "    cat_df = pd.DataFrame(cat_df, columns = cat_features)\n",
    "    cat_df.insert(0, 'ID', IDs.values)\n",
    "    # Merge binary and categorical dataframes together\n",
    "    new_data = pd.merge(cat_df, bin_df, on='ID', how='left')\n",
    "    # return dataframe and labels\n",
    "    if 'y' in data.columns:\n",
    "        labels = data['y']\n",
    "        return new_data, labels\n",
    "    else:\n",
    "        return new_data"
   ]
  },
  {
   "cell_type": "code",
   "execution_count": 4,
   "metadata": {},
   "outputs": [],
   "source": [
    "drop_feat = ['X4', 'X11', 'X93', 'X107', 'X233', 'X235', 'X268', 'X289', 'X290', 'X293', 'X297', \n",
    "  'X330', 'X339', 'X347', 'X35', 'X37', 'X39', 'X57', 'X76', 'X84', 'X94', 'X102', 'X113', 'X119', \n",
    " 'X120', 'X122', 'X130', 'X134', 'X136', 'X146', 'X147','X157', 'X172', 'X194', 'X199', 'X205', \n",
    " 'X213', 'X214', 'X216', 'X222', 'X226', 'X227', 'X232', 'X239', 'X242', 'X243', 'X244', 'X245',\n",
    " 'X247', 'X248', 'X253', 'X254', 'X262', 'X263', 'X266', 'X279', 'X296', 'X299', 'X302', 'X320', \n",
    " 'X324', 'X326', 'X360', 'X364', 'X365', 'X382', 'X385']"
   ]
  },
  {
   "cell_type": "code",
   "execution_count": 5,
   "metadata": {},
   "outputs": [
    {
     "name": "stdout",
     "output_type": "stream",
     "text": [
      "Before removing non informative features:(4201, 378)\n",
      "After removing non informative features:(4201, 310)\n"
     ]
    }
   ],
   "source": [
    "clean_train = train[train['y']<155]\n",
    "\n",
    "final_train = clean_train.drop(drop_feat, axis=1)\n",
    "\n",
    "final_train = final_train.drop('ID', axis=1)\n",
    "\n",
    "train_ID = clean_train['ID'].copy()\n",
    "\n",
    "print(f\"Before removing non informative features:{clean_train.shape}\")\n",
    "print(f\"After removing non informative features:{final_train.shape}\")"
   ]
  },
  {
   "cell_type": "code",
   "execution_count": 6,
   "metadata": {},
   "outputs": [
    {
     "name": "stdout",
     "output_type": "stream",
     "text": [
      "Before removing non informative features:(4209, 377)\n",
      "After removing non informative features:(4209, 309)\n"
     ]
    }
   ],
   "source": [
    "final_test = test.drop(drop_feat, axis=1)\n",
    "\n",
    "final_test = final_test.drop('ID', axis=1)\n",
    "\n",
    "test_ID = test['ID'].copy()\n",
    "\n",
    "print(f\"Before removing non informative features:{test.shape}\")\n",
    "print(f\"After removing non informative features:{final_test.shape}\")"
   ]
  },
  {
   "cell_type": "markdown",
   "metadata": {},
   "source": [
    "## 6.3 Feature Engineering"
   ]
  },
  {
   "cell_type": "markdown",
   "metadata": {},
   "source": [
    "### 6.3.1 Original"
   ]
  },
  {
   "cell_type": "code",
   "execution_count": 7,
   "metadata": {
    "scrolled": true
   },
   "outputs": [
    {
     "name": "stdout",
     "output_type": "stream",
     "text": [
      "Train set:\n",
      "(4201, 309)\n",
      "(4201,)\n",
      "Test set:\n",
      "(4209, 309)\n"
     ]
    }
   ],
   "source": [
    "X_train, y_train = preprocess_categorical(final_train, train_ID)\n",
    "\n",
    "X_train = X_train.drop('ID', axis=1)\n",
    "\n",
    "X_test = preprocess_categorical(final_test, test_ID)\n",
    "\n",
    "X_test = X_test.drop('ID', axis=1)\n",
    "\n",
    "print(\"Train set:\")\n",
    "print(X_train.shape)\n",
    "print(y_train.shape)\n",
    "print(\"Test set:\")\n",
    "print(X_test.shape)"
   ]
  },
  {
   "cell_type": "markdown",
   "metadata": {},
   "source": [
    "### 6.3.2 PCA"
   ]
  },
  {
   "cell_type": "code",
   "execution_count": 8,
   "metadata": {},
   "outputs": [
    {
     "name": "stdout",
     "output_type": "stream",
     "text": [
      "(4201, 10)\n",
      "(4209, 10)\n"
     ]
    }
   ],
   "source": [
    "# lets take top 25 pca components\n",
    "components = 10 \n",
    "categories = ['X0','X1', 'X2', 'X3', 'X5','X6', 'X8']\n",
    "\n",
    "pca = PCA(n_components=components, random_state=420)\n",
    "\n",
    "pca_train = pca.fit_transform(X_train.drop(categories, axis=1))\n",
    "pca_test = pca.transform(X_test.drop(categories, axis=1))\n",
    "\n",
    "print(pca_train.shape)\n",
    "print(pca_test.shape)"
   ]
  },
  {
   "cell_type": "markdown",
   "metadata": {},
   "source": [
    "### 6.3.3 SVD"
   ]
  },
  {
   "cell_type": "code",
   "execution_count": 9,
   "metadata": {},
   "outputs": [
    {
     "name": "stdout",
     "output_type": "stream",
     "text": [
      "(4201, 117)\n",
      "(4209, 117)\n"
     ]
    }
   ],
   "source": [
    "n_comp = 117\n",
    "\n",
    "categories = ['X0','X1', 'X2', 'X3', 'X5','X6', 'X8']\n",
    "\n",
    "tsvd = TruncatedSVD(n_components=n_comp, random_state=420)\n",
    "\n",
    "svd_train = tsvd.fit_transform(X_train.drop(categories, axis=1))\n",
    "svd_test = tsvd.transform(X_test.drop(categories, axis=1))\n",
    "\n",
    "print(svd_train.shape)\n",
    "print(svd_test.shape)"
   ]
  },
  {
   "cell_type": "markdown",
   "metadata": {},
   "source": [
    "### 6.3.4 Interaction Features\n",
    "- Two way interactions X314, X315\n",
    "- Three way interactions X118,X314,X315"
   ]
  },
  {
   "cell_type": "code",
   "execution_count": 10,
   "metadata": {},
   "outputs": [
    {
     "name": "stdout",
     "output_type": "stream",
     "text": [
      "(4201, 1)\n",
      "(4209, 1)\n",
      "(4201, 1)\n",
      "(4209, 1)\n"
     ]
    }
   ],
   "source": [
    "def get_interactions(features):\n",
    "    \"\"\"\n",
    "    features : list of features\n",
    "    return : interaction between features\n",
    "    \"\"\"\n",
    "    train_inter = 0\n",
    "    # cv_inter = 0\n",
    "    test_inter = 0\n",
    "    for f in range(len(features)):\n",
    "        train_inter += X_train[features[f]].values\n",
    "        #cv_inter += X_cv[features[f]].values\n",
    "        test_inter += X_test[features[f]].values\n",
    "        \n",
    "    return train_inter.reshape(-1,1), test_inter.reshape(-1,1)\n",
    "\n",
    "train_X314_X315, test_X314_X315 = get_interactions(['X314', 'X315'])\n",
    "train_X118_X314_X315, test_X118_X314_X315 = get_interactions(['X118', 'X314', \n",
    "                                                                                 'X315'])\n",
    "\n",
    "print(train_X314_X315.shape)\n",
    "print(test_X314_X315.shape)\n",
    "print(train_X118_X314_X315.shape)\n",
    "print(test_X118_X314_X315.shape)"
   ]
  },
  {
   "cell_type": "markdown",
   "metadata": {},
   "source": [
    "### 6.3.5 Gaussian Random Projection"
   ]
  },
  {
   "cell_type": "code",
   "execution_count": 11,
   "metadata": {},
   "outputs": [
    {
     "name": "stdout",
     "output_type": "stream",
     "text": [
      "(4201, 10)\n",
      "(4209, 10)\n"
     ]
    }
   ],
   "source": [
    "# Gaussian Random Projection\n",
    "n_comp = 10\n",
    "grp = GaussianRandomProjection(n_components=n_comp, eps=0.1, random_state=420)\n",
    "grp_train = grp.fit_transform(X_train)\n",
    "grp_test = grp.transform(X_test)\n",
    "\n",
    "print(grp_train.shape)\n",
    "print(grp_test.shape)"
   ]
  },
  {
   "cell_type": "markdown",
   "metadata": {},
   "source": [
    "### 6.3.6 Combine Features"
   ]
  },
  {
   "cell_type": "code",
   "execution_count": 12,
   "metadata": {},
   "outputs": [
    {
     "name": "stdout",
     "output_type": "stream",
     "text": [
      "Final Dataset Shapes:\n",
      "(4201, 448)\n",
      "(4209, 448)\n"
     ]
    }
   ],
   "source": [
    "D_train = np.hstack((X_train, pca_train, grp_train, svd_train, train_X314_X315, \n",
    "                                     train_X118_X314_X315))\n",
    "\n",
    "\n",
    "D_test = np.hstack((X_test, pca_test, grp_test, svd_test, test_X314_X315, \n",
    "                                    test_X118_X314_X315))\n",
    "\n",
    "print(\"Final Dataset Shapes:\")\n",
    "print(D_train.shape)\n",
    "print(D_test.shape)"
   ]
  },
  {
   "cell_type": "markdown",
   "metadata": {},
   "source": [
    "## 6.4 Custom Model"
   ]
  },
  {
   "attachments": {
    "image.png": {
     "image/png": "[encoded data removed]"
    }
   },
   "cell_type": "markdown",
   "metadata": {},
   "source": [
    "![image.png](attachment:image.png)"
   ]
  },
  {
   "cell_type": "code",
   "execution_count": 13,
   "metadata": {},
   "outputs": [],
   "source": [
    "def generate_samples(input_data, target_data):\n",
    "    '''In this function, we will write code for generating samples '''\n",
    "\n",
    "    fixed = int(np.ceil(0.6 * len(input_data)))\n",
    "    changed = int(np.ceil(0.4 * len(input_data))) \n",
    "    if (fixed + changed) == len(input_data):\n",
    "        fixed = fixed\n",
    "        changed = changed\n",
    "    elif (fixed + changed) > len(input_data):\n",
    "        fixed = fixed\n",
    "        changed = changed - 1\n",
    "    \n",
    "    # Getting random row indices from the input_data without replacement\n",
    "    selecting_rows = np.random.choice(range(len(input_data)), size = fixed , replace=False)\n",
    "    # Extracting random row indices from the \"Selecting_rows\" with replacement\n",
    "    replicating_rows = np.random.choice(selecting_rows, size = changed, replace=True)\n",
    "\n",
    "    sample_data = input_data[selecting_rows[:]]\n",
    "    # target of sample data \n",
    "    target_of_sample_data = target_data[selecting_rows]\n",
    "    #Replicating Data\n",
    "    # Replicated sample data \n",
    "    replicated_sample_data = input_data[replicating_rows[:]]\n",
    "    # target of Replicated sample data target_data[Replaceing rows]\n",
    "    target_of_replicated_sample_data = target_data[replicating_rows]\n",
    "    # Concatenating data\n",
    "    # perform vertical stack on sample data, Replicated sample data\n",
    "    final_sample_data = np.vstack ((sample_data, replicated_sample_data))\n",
    "    # perform vertical stack on target of sample_data.reshape(-1,1), \n",
    "    # target of Replicated sample data.reshape(-1,1)\n",
    "    final_target_data = np.vstack((target_of_sample_data.reshape(-1,1), \n",
    "                                   target_of_replicated_sample_data.reshape(-1,1)))\n",
    "    # return final_sample_data , final_target_data\n",
    "    return final_sample_data, final_target_data"
   ]
  },
  {
   "cell_type": "code",
   "execution_count": 19,
   "metadata": {
    "scrolled": true
   },
   "outputs": [],
   "source": [
    "def CustomEnsembleRegressor(Data, target, k):\n",
    "    \"\"\"\n",
    "    Data: Train features\n",
    "    target: Target values\n",
    "    K: number of models to be trained\n",
    "    \"\"\"\n",
    "    # Step 1 : Split it into train and test ( X_train and X_test)(80-20)\n",
    "    D_tr, D_cv, y_tr, y_cv = train_test_split(Data, target, test_size=0.2)\n",
    "    # Step 2 : Now in the X_train set, split it into D1 and D2(50% each)\n",
    "    D1, D2, D1_y, D2_y = train_test_split(D_tr, y_tr, test_size=0.5)\n",
    "    # Step 3 : Now in the 50% data D1, do sampling with replacement\n",
    "    k_datasets = []\n",
    "    dk_y_list = []\n",
    "    for i in range(k):\n",
    "        dk, dk_y = generate_samples(D1, D1_y)\n",
    "        k_datasets.append(dk)\n",
    "        dk_y_list.append(dk_y)\n",
    "    \n",
    "    # now since there are n samples now we need n models.\n",
    "    # Let's say the models are Decision trees(model_dt).\n",
    "    # m1 = model_dt.fit(d1,y1)\n",
    "    # m2 = model_dt.fit(d2,y2)\n",
    "    # .\n",
    "    # .\n",
    "    # .\n",
    "    # mn = model.fit(dn,yn)\n",
    "    k_regressors = []\n",
    "    for d_set in range(len(k_datasets)):\n",
    "        # create and train DecisionTreeRegressor\n",
    "        model_dt = DecisionTreeRegressor(max_depth=None)\n",
    "        model_dt.fit(k_datasets[d_set], dk_y_list[d_set])\n",
    "        k_regressors.append(model_dt)\n",
    "\n",
    "    # Step 4 : Now that we have out n models- These are the base models, pass the D2 dataset \n",
    "    # to these models to get n predictions:\n",
    "    # p1 = m1.predict(D2)\n",
    "    # p2 = m2.predict(D2)\n",
    "    # .\n",
    "    # .\n",
    "    # .\n",
    "    # pn = mn.predict(D2)\n",
    "    D_meta = []\n",
    "    for reg in tqdm(k_regressors):\n",
    "        D2_pred = reg.predict(D2)\n",
    "        D_meta.append(D2_pred)\n",
    "    # Now you get n different predictions. Now create a new dataset with these predictions, \n",
    "    # let's call it D_meta\n",
    "    # D_meta = [p1,p2,p3.....pn]\n",
    "    D_meta = np.hstack(tuple(D_meta)).reshape(D_meta[0].shape[0], k)\n",
    "    \n",
    "    # Step 5 , Now for D_meta, the corresponding y value will be the y_values of D2(y_D2). Now let's fit a meta model, let's say\n",
    "    # the meta model is xgb :\n",
    "    # meta_model = xgb.fit(D_meta,y_D2).\n",
    "    \n",
    "    Meta_1 = XGBRegressor(n_estimators = 100,\n",
    "                   learning_rate = 0.1,\n",
    "                   max_depth = 2,\n",
    "                   subsample = 1,\n",
    "                   gamma = 0,\n",
    "                   reg_alpha = 10,\n",
    "                    colsample_bytree = 1,\n",
    "                      random_state=42,n_jobs=-1)\n",
    "    Meta_1.fit(D_meta, D2_y)\n",
    "\n",
    "    tr_D2_pred = Meta_1.predict(D_meta)\n",
    "    \n",
    "    R2_train = r2_score(D2_y, tr_D2_pred)\n",
    "    \n",
    "    # Step 5 : Now inorder to measure the performance of this entire ensemble model, \n",
    "    # we will use the 20% test set which we created in the first step :\n",
    "    # First pass X_test to each of the base models to get n predictions :\n",
    "    # t1 = m1.predict(X_test)\n",
    "    # t2 = m2.predict(X_test)\n",
    "    # .\n",
    "    # .\n",
    "    # .\n",
    "    # tn = mn.predict(X_test)\n",
    "    D_cv_meta = []\n",
    "    for reg in tqdm(k_regressors):\n",
    "        D2_cv_pred = reg.predict(D_cv)\n",
    "        D_cv_meta.append(D2_cv_pred)\n",
    "    # Now stack these n predictions :\n",
    "    # D_test_meta = [t1,t2,t3...tn]\n",
    "    D_cv_meta = np.hstack(tuple(D_cv_meta)).reshape(D_cv_meta[0].shape[0], k)\n",
    "    # Now pass this to your final meta model :\n",
    "    # pred_final = model.predict(D_test_meta)\n",
    "    # Step 6 : Now this pred_final is the final prediction from the ensemble.\n",
    "    cv_D2_pred = Meta_1.predict(D_cv_meta)\n",
    "    \n",
    "    R2_cv = r2_score(y_cv, cv_D2_pred)\n",
    "    \n",
    "    return Meta_1, R2_train, R2_cv"
   ]
  },
  {
   "cell_type": "code",
   "execution_count": 21,
   "metadata": {},
   "outputs": [
    {
     "name": "stderr",
     "output_type": "stream",
     "text": [
      "100%|██████████| 3/3 [00:00<00:00, 573.99it/s]\n",
      "100%|██████████| 3/3 [00:00<00:00, 1036.14it/s]\n"
     ]
    },
    {
     "name": "stdout",
     "output_type": "stream",
     "text": [
      "Train R2:0.08220279658407303, CV R2:-0.01337314473045259\n"
     ]
    },
    {
     "name": "stderr",
     "output_type": "stream",
     "text": [
      "100%|██████████| 5/5 [00:00<00:00, 619.29it/s]\n",
      "100%|██████████| 5/5 [00:00<00:00, 985.04it/s]\n"
     ]
    },
    {
     "name": "stdout",
     "output_type": "stream",
     "text": [
      "Train R2:0.09105626276132484, CV R2:-0.01563382377423217\n"
     ]
    },
    {
     "name": "stderr",
     "output_type": "stream",
     "text": [
      "100%|██████████| 10/10 [00:00<00:00, 692.37it/s]\n",
      "100%|██████████| 10/10 [00:00<00:00, 1151.36it/s]\n"
     ]
    },
    {
     "name": "stdout",
     "output_type": "stream",
     "text": [
      "Train R2:0.1297652945230663, CV R2:-0.03525505486195346\n"
     ]
    },
    {
     "name": "stderr",
     "output_type": "stream",
     "text": [
      "100%|██████████| 20/20 [00:00<00:00, 714.51it/s]\n",
      "100%|██████████| 20/20 [00:00<00:00, 1238.28it/s]\n"
     ]
    },
    {
     "name": "stdout",
     "output_type": "stream",
     "text": [
      "Train R2:0.1456421992646002, CV R2:-0.024534879198908177\n"
     ]
    },
    {
     "name": "stderr",
     "output_type": "stream",
     "text": [
      "100%|██████████| 50/50 [00:00<00:00, 773.68it/s]\n",
      "100%|██████████| 50/50 [00:00<00:00, 1435.81it/s]\n"
     ]
    },
    {
     "name": "stdout",
     "output_type": "stream",
     "text": [
      "Train R2:0.16835058802053093, CV R2:-0.05085436003144661\n"
     ]
    },
    {
     "name": "stderr",
     "output_type": "stream",
     "text": [
      "100%|██████████| 75/75 [00:00<00:00, 792.55it/s]\n",
      "100%|██████████| 75/75 [00:00<00:00, 1401.10it/s]\n"
     ]
    },
    {
     "name": "stdout",
     "output_type": "stream",
     "text": [
      "Train R2:0.19105718148989337, CV R2:-0.036930656218675306\n"
     ]
    },
    {
     "name": "stderr",
     "output_type": "stream",
     "text": [
      "100%|██████████| 100/100 [00:00<00:00, 772.30it/s]\n",
      "100%|██████████| 100/100 [00:00<00:00, 1348.47it/s]\n"
     ]
    },
    {
     "name": "stdout",
     "output_type": "stream",
     "text": [
      "Train R2:0.20514241360525387, CV R2:-0.028996842506092246\n"
     ]
    },
    {
     "name": "stderr",
     "output_type": "stream",
     "text": [
      "100%|██████████| 225/225 [00:00<00:00, 798.80it/s]\n",
      "100%|██████████| 225/225 [00:00<00:00, 1403.52it/s]\n"
     ]
    },
    {
     "name": "stdout",
     "output_type": "stream",
     "text": [
      "Train R2:0.23149152275845875, CV R2:-0.037854168858211024\n"
     ]
    },
    {
     "name": "stderr",
     "output_type": "stream",
     "text": [
      "100%|██████████| 500/500 [00:00<00:00, 788.68it/s]\n",
      "100%|██████████| 500/500 [00:00<00:00, 1396.08it/s]"
     ]
    },
    {
     "name": "stdout",
     "output_type": "stream",
     "text": [
      "Train R2:0.27910345041117934, CV R2:-0.01996754386214894\n",
      "Time elapsed: 267.02857732772827\n"
     ]
    },
    {
     "name": "stderr",
     "output_type": "stream",
     "text": [
      "\n"
     ]
    }
   ],
   "source": [
    "import time\n",
    "start = time.time()\n",
    "n_estimators = [3,5,10,20,50,75,100,225,500]\n",
    "train_scores = []\n",
    "cv_scores = []\n",
    "n_models = []\n",
    "for k in n_estimators:\n",
    "    model, R2_train, R2_cv = CustomEnsembleRegressor(D_train, y_train.values, k)\n",
    "    n_models.append(model)\n",
    "    train_scores.append(R2_train)\n",
    "    cv_scores.append(R2_cv)\n",
    "    print(f\"Train R2:{R2_train}, CV R2:{R2_cv}\")\n",
    "    \n",
    "elapsed = time.time() - start\n",
    "print(f\"Time elapsed: {elapsed}\")"
   ]
  },
  {
   "cell_type": "markdown",
   "metadata": {},
   "source": [
    "### 6.4.1 Plot the scores"
   ]
  },
  {
   "cell_type": "code",
   "execution_count": 22,
   "metadata": {},
   "outputs": [
    {
     "data": {
      "image/png": "[encoded data removed]",
      "text/plain": [
       "<Figure size 432x288 with 1 Axes>"
      ]
     },
     "metadata": {
      "needs_background": "light"
     },
     "output_type": "display_data"
    }
   ],
   "source": [
    "# Let's plot the train and CV score\n",
    "plt.plot(n_estimators, train_scores,'o-',)\n",
    "plt.plot(n_estimators, cv_scores,'o-')\n",
    "plt.title(\"N_estimators Vs R2 Score\")\n",
    "plt.xlabel(\"Estimators-->\")\n",
    "plt.ylabel(\"R2 Scores-->\")\n",
    "plt.show()"
   ]
  },
  {
   "cell_type": "markdown",
   "metadata": {},
   "source": [
    "- Here the custom model I developed is not working, it is giving the worst results than any other models I tried prreviously. So no point testing it on test data."
   ]
  }
 ],
 "metadata": {
  "kernelspec": {
   "display_name": "Python 3",
   "language": "python",
   "name": "python3"
  },
  "language_info": {
   "codemirror_mode": {
    "name": "ipython",
    "version": 3
   },
   "file_extension": ".py",
   "mimetype": "text/x-python",
   "name": "python",
   "nbconvert_exporter": "python",
   "pygments_lexer": "ipython3",
   "version": "3.7.6"
  }
 },
 "nbformat": 4,
 "nbformat_minor": 4
}
